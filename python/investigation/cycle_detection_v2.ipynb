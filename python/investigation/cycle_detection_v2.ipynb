{
 "cells": [
  {
   "cell_type": "code",
   "execution_count": 15,
   "id": "36b74731-312e-4f91-addd-99bda0cf5e8c",
   "metadata": {},
   "outputs": [],
   "source": [
    "import pandas as pd\n",
    "import networkx as nx\n",
    "from pathlib import Path"
   ]
  },
  {
   "cell_type": "code",
   "execution_count": 16,
   "id": "f0aac920-8c4c-47e6-859a-ade75465436a",
   "metadata": {},
   "outputs": [],
   "source": [
    "WORKBOOK_PATH = Path('../../data/assemblies.xlsx')\n",
    "OUTPUT_PATH   = WORKBOOK_PATH"
   ]
  },
  {
   "cell_type": "code",
   "execution_count": 17,
   "id": "c2edca59-0037-4a9a-8614-cbd8752e37ca",
   "metadata": {},
   "outputs": [],
   "source": [
    "df = pd.read_excel(WORKBOOK_PATH, sheet_name=0)\n",
    "df.columns = df.columns.str.strip()                # remove any leading/trailing spaces\n",
    "required_cols = {'ID', 'PredecessorIDs', 'SuccessorIDs'}           \n",
    "if not required_cols.issubset(df.columns):\n",
    "    raise KeyError(f\"Missing one of {required_cols} in {df.columns.tolist()}\")"
   ]
  },
  {
   "cell_type": "code",
   "execution_count": 18,
   "id": "24dcb6d2-7ded-47e5-a948-fc4063341526",
   "metadata": {},
   "outputs": [],
   "source": [
    "# helper to split comma-lists\n",
    "def parse_ids(cell):\n",
    "    s = str(cell).strip()\n",
    "    if not s or s.lower() == 'nan':\n",
    "        return []\n",
    "    return [int(x.strip()) for x in s.split(',') if x.strip()]"
   ]
  },
  {
   "cell_type": "code",
   "execution_count": 19,
   "id": "d521215d-c773-449f-bc84-bb564b0a6794",
   "metadata": {},
   "outputs": [
    {
     "name": "stdout",
     "output_type": "stream",
     "text": [
      "Collected 540 edges\n",
      "First 10 edges: [(96, 95), (177, 181), (110, 2), (55, 75), (188, 187), (207, 200), (118, 122), (59, 82), (129, 137), (72, 2)]\n"
     ]
    }
   ],
   "source": [
    "# — 2) collect edges from predecessors AND successors —\n",
    "edge_set = set()\n",
    "for _, row in df.iterrows():\n",
    "    tid = int(row['ID'])\n",
    "\n",
    "    # predecessor → this task\n",
    "    for p in parse_ids(row['PredecessorIDs']):\n",
    "        edge_set.add((p, tid))\n",
    "\n",
    "    # this task → successor\n",
    "    if 'SuccessorIDs' in df.columns:\n",
    "        for s in parse_ids(row['SuccessorIDs']):\n",
    "            edge_set.add((tid, s))\n",
    "\n",
    "edges = list(edge_set)\n",
    "\n",
    "print(f\"Collected {len(edges):,} edges\")\n",
    "if edges:\n",
    "    print(\"First 10 edges:\", edges[:10])\n",
    "else:\n",
    "    print(\"⚠️  No edges were collected – check your column names or cell values!\")"
   ]
  },
  {
   "cell_type": "code",
   "execution_count": 20,
   "id": "311be063-c333-440a-808d-8cc1e100384f",
   "metadata": {},
   "outputs": [
    {
     "name": "stdout",
     "output_type": "stream",
     "text": [
      "Found 0 cycles\n"
     ]
    }
   ],
   "source": [
    "# — 3) build graph & detect cycles —\n",
    "G = nx.DiGraph()\n",
    "G.add_edges_from(edges)\n",
    "\n",
    "cycles = list(nx.simple_cycles(G))\n",
    "print(f'Found {len(cycles)} cycles')"
   ]
  },
  {
   "cell_type": "code",
   "execution_count": 21,
   "id": "e6415d7e-bfae-4698-bee4-76d3d2ce9cb7",
   "metadata": {},
   "outputs": [
    {
     "name": "stdout",
     "output_type": "stream",
     "text": [
      "Wrote 0 cycles → sheet 'Cycles_Named'\n"
     ]
    }
   ],
   "source": [
    "# — build human‐readable cycle strings (ID-based) if you haven’t already —\n",
    "cycle_strings = [' → '.join(map(str, c + [c[0]])) for c in cycles]\n",
    "\n",
    "# — map IDs to descriptions —\n",
    "id_to_desc = df.set_index('ID')['Description'].astype(str).to_dict()\n",
    "\n",
    "# — build named‐cycle strings —\n",
    "named_strings = [\n",
    "    \" → \".join(id_to_desc.get(n, f\"ID {n}\") for n in c + [c[0]])\n",
    "    for c in cycles\n",
    "]\n",
    "\n",
    "# — assemble DataFrame —\n",
    "named_df = pd.DataFrame({\n",
    "    'Cycle':       cycle_strings,\n",
    "    'Cycle_Named': named_strings\n",
    "})\n",
    "\n",
    "# — write to Excel sheet “Cycles_Named” —\n",
    "with pd.ExcelWriter(OUTPUT_PATH, engine='openpyxl', mode='a', if_sheet_exists='replace') as writer:\n",
    "    named_df.to_excel(writer, sheet_name='Cycles_Named', index=False)\n",
    "\n",
    "print(f\"Wrote {len(named_df)} cycles → sheet 'Cycles_Named'\")"
   ]
  },
  {
   "cell_type": "code",
   "execution_count": null,
   "id": "03bd5228-afd6-4c92-adf9-164a0f6b6bab",
   "metadata": {},
   "outputs": [],
   "source": []
  }
 ],
 "metadata": {
  "kernelspec": {
   "display_name": "SunswiftTimeline (venv)",
   "language": "python",
   "name": "sunswift-tl"
  },
  "language_info": {
   "codemirror_mode": {
    "name": "ipython",
    "version": 3
   },
   "file_extension": ".py",
   "mimetype": "text/x-python",
   "name": "python",
   "nbconvert_exporter": "python",
   "pygments_lexer": "ipython3",
   "version": "3.13.5"
  }
 },
 "nbformat": 4,
 "nbformat_minor": 5
}
