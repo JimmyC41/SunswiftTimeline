{
 "cells": [
  {
   "cell_type": "code",
   "execution_count": 1,
   "id": "18d3b539-858f-4f1a-9b04-14355e62411c",
   "metadata": {},
   "outputs": [],
   "source": [
    "import pandas as pd\n",
    "import networkx as nx\n",
    "from pathlib import Path"
   ]
  },
  {
   "cell_type": "code",
   "execution_count": 2,
   "id": "29532aae-6af8-46cd-b038-a10b60ae5459",
   "metadata": {},
   "outputs": [],
   "source": [
    "WORKBOOK_PATH = Path('../../data/assemblies.xlsx')\n",
    "OUTPUT_PATH = WORKBOOK_PATH"
   ]
  },
  {
   "cell_type": "code",
   "execution_count": 3,
   "id": "16052dca-6883-4111-b98c-d210a2190aa3",
   "metadata": {},
   "outputs": [
    {
     "name": "stdout",
     "output_type": "stream",
     "text": [
      "Collected 418 edges\n",
      "First 10 edges: [(23, 1), (24, 1), (142, 1), (3, 2), (4, 2), (5, 2), (7, 2), (8, 2), (11, 2), (12, 2)]\n"
     ]
    }
   ],
   "source": [
    "df = pd.read_excel(WORKBOOK_PATH, sheet_name=0)\n",
    "required_cols = {'ID', 'PredecessorIDs'}\n",
    "\n",
    "# Build list of edges (predecessor -> task)\n",
    "edges = []\n",
    "for _, row in df.iterrows():\n",
    "    task_id = int(row['ID'])\n",
    "    preds = str(row['PredecessorIDs']).strip()\n",
    "    if preds and preds.lower() != 'nan':\n",
    "        for pred in preds.split(','):\n",
    "            pred = pred.strip()\n",
    "            if pred:\n",
    "                edges.append((int(pred), task_id))\n",
    "\n",
    "print(f\"Collected {len(edges):,} edges\")\n",
    "if edges:\n",
    "    print(\"First 10 edges:\", edges[:10])  # predecessor → task\n",
    "else:\n",
    "    print(\"⚠️  No edges were collected – double-check the column names/values.\")"
   ]
  },
  {
   "cell_type": "code",
   "execution_count": 4,
   "id": "90cd70fd-bf24-41ac-ab6d-c4e8bc5e7d73",
   "metadata": {},
   "outputs": [
    {
     "name": "stdout",
     "output_type": "stream",
     "text": [
      "Found 0 cycles\n"
     ]
    },
    {
     "data": {
      "text/html": [
       "<div>\n",
       "<style scoped>\n",
       "    .dataframe tbody tr th:only-of-type {\n",
       "        vertical-align: middle;\n",
       "    }\n",
       "\n",
       "    .dataframe tbody tr th {\n",
       "        vertical-align: top;\n",
       "    }\n",
       "\n",
       "    .dataframe thead th {\n",
       "        text-align: right;\n",
       "    }\n",
       "</style>\n",
       "<table border=\"1\" class=\"dataframe\">\n",
       "  <thead>\n",
       "    <tr style=\"text-align: right;\">\n",
       "      <th></th>\n",
       "      <th>Cycle</th>\n",
       "    </tr>\n",
       "  </thead>\n",
       "  <tbody>\n",
       "  </tbody>\n",
       "</table>\n",
       "</div>"
      ],
      "text/plain": [
       "Empty DataFrame\n",
       "Columns: [Cycle]\n",
       "Index: []"
      ]
     },
     "execution_count": 4,
     "metadata": {},
     "output_type": "execute_result"
    }
   ],
   "source": [
    "# Build directed graph\n",
    "G = nx.DiGraph()\n",
    "G.add_edges_from(edges)\n",
    "\n",
    "# Detect all simple cycles (Johnson's algorithm under the hood)\n",
    "cycles = list(nx.simple_cycles(G))\n",
    "print(f'Found {len(cycles)} cycles')\n",
    "\n",
    "# Flatten cycles to strings like 'A -> B -> C -> A'\n",
    "cycle_strings = [' → '.join(map(str, c + [c[0]])) for c in cycles]\n",
    "cycles_df = pd.DataFrame({'Cycle': cycle_strings})\n",
    "cycles_df.head()"
   ]
  },
  {
   "cell_type": "code",
   "execution_count": null,
   "id": "13e78897-96fc-407d-a314-1240ec27fcaa",
   "metadata": {},
   "outputs": [],
   "source": []
  }
 ],
 "metadata": {
  "kernelspec": {
   "display_name": "SunswiftTimeline (venv)",
   "language": "python",
   "name": "sunswift-tl"
  },
  "language_info": {
   "codemirror_mode": {
    "name": "ipython",
    "version": 3
   },
   "file_extension": ".py",
   "mimetype": "text/x-python",
   "name": "python",
   "nbconvert_exporter": "python",
   "pygments_lexer": "ipython3",
   "version": "3.13.5"
  }
 },
 "nbformat": 4,
 "nbformat_minor": 5
}
